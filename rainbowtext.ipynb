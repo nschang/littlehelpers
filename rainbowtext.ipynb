{
 "cells": [
  {
   "cell_type": "code",
   "execution_count": null,
   "id": "ef65a85d",
   "metadata": {},
   "outputs": [],
   "source": [
    "# Draw Rainbow Text\n",
    "import matplotlib\n",
    "import matplotlib.pyplot as plt\n",
    "from PIL import Image, ImageDraw, ImageFont\n",
    "from random import randint\n",
    "%matplotlib notebook  \n",
    "import matplotlib.pyplot as plt\n",
    "make_color = lambda : (randint(50, 255), randint(50, 255), randint(50,255))\n",
    "\n",
    "image = Image.new(\"RGB\", (1200,20), (0,0,0)) # scrap image\n",
    "draw = ImageDraw.Draw(image)\n",
    "image2 = Image.new(\"RGB\", (1200, 20), (0,0,0)) # final image\n",
    "\n",
    "fill = \" o \"\n",
    "x = 0\n",
    "w_fill, y = draw.textsize(fill)\n",
    "x_draw, x_paste = 0, 0\n",
    "for c in \"The quick brown fox jumps over the lazy dog.\":\n",
    "    w_full = draw.textsize(fill+c)[0]\n",
    "    w = w_full - w_fill     # the width of the character on its own\n",
    "    draw.text((x_draw,0), fill+c, make_color())\n",
    "    iletter = image.crop((x_draw+w_fill, 0, x_draw+w_full, y))\n",
    "    image2.paste(iletter, (x_paste, 0))\n",
    "    x_draw += w_full\n",
    "    x_paste += w\n",
    "#image2.show()\n",
    "plt.imshow(image2)\n"
   ]
  }
 ],
 "metadata": {
  "kernelspec": {
   "display_name": "Python 3 (ipykernel)",
   "language": "python",
   "name": "python3"
  },
  "language_info": {
   "codemirror_mode": {
    "name": "ipython",
    "version": 3
   },
   "file_extension": ".py",
   "mimetype": "text/x-python",
   "name": "python",
   "nbconvert_exporter": "python",
   "pygments_lexer": "ipython3",
   "version": "3.9.7"
  }
 },
 "nbformat": 4,
 "nbformat_minor": 5
}
